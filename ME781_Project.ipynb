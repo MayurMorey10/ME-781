{
  "nbformat": 4,
  "nbformat_minor": 0,
  "metadata": {
    "colab": {
      "provenance": []
    },
    "kernelspec": {
      "name": "python3",
      "display_name": "Python 3"
    },
    "language_info": {
      "name": "python"
    }
  },
  "cells": [
    {
      "cell_type": "code",
      "execution_count": null,
      "metadata": {
        "id": "t4eV_kg5m3cb"
      },
      "outputs": [],
      "source": [
        "import pandas as pd\n",
        "import numpy as np\n",
        "import matplotlib.pyplot as plt\n",
        "import seaborn as sns\n",
        "from sklearn.metrics import mean_absolute_error as mae\n",
        "from sklearn.linear_model import LinearRegression"
      ]
    },
    {
      "cell_type": "code",
      "source": [
        "def re(y_val, y_pred):\n",
        "  rae = []\n",
        "  for i in range(len(y_val)):\n",
        "    rae.append(abs(y_val[i]-y_pred[i])/y_val[i])\n",
        "  t = sum(rae)\n",
        "  return (t/len(y_val))"
      ],
      "metadata": {
        "id": "tLaavUlFh3uq"
      },
      "execution_count": null,
      "outputs": []
    },
    {
      "cell_type": "code",
      "source": [
        "data_train = pd.read_excel(\"training_set.xlsx\")"
      ],
      "metadata": {
        "id": "606Odrl8oZNt"
      },
      "execution_count": null,
      "outputs": []
    },
    {
      "cell_type": "code",
      "source": [
        "data_train.head()"
      ],
      "metadata": {
        "colab": {
          "base_uri": "https://localhost:8080/",
          "height": 206
        },
        "id": "iL9x4nx8daSl",
        "outputId": "ba87bcb0-cbef-4707-fb10-59614fbe4132"
      },
      "execution_count": null,
      "outputs": [
        {
          "output_type": "execute_result",
          "data": {
            "text/plain": [
              "   Number  Cutting depth,  (mm)  Feed rate, f (mm/min)  \\\n",
              "0       1                   1.2                    120   \n",
              "1       2                   1.5                    150   \n",
              "2       3                   1.5                    100   \n",
              "3       4                   1.8                    100   \n",
              "4       5                   1.8                    150   \n",
              "\n",
              "   Spindle speed, n (r/min)  Cutting length, L (mm)  Position, h (mm)  \\\n",
              "0                      1200                     432            1.1511   \n",
              "1                      1200                     504            1.1511   \n",
              "2                      1000                     432            1.1511   \n",
              "3                      1200                     576            1.1511   \n",
              "4                      1400                     432            1.0000   \n",
              "\n",
              "   Tool wear, VB (mm)  \n",
              "0              0.0501  \n",
              "1              0.0525  \n",
              "2              0.0473  \n",
              "3              0.0105  \n",
              "4              0.0427  "
            ],
            "text/html": [
              "\n",
              "  <div id=\"df-96e09ab7-a29d-4ce6-ab9c-672d2cf51472\">\n",
              "    <div class=\"colab-df-container\">\n",
              "      <div>\n",
              "<style scoped>\n",
              "    .dataframe tbody tr th:only-of-type {\n",
              "        vertical-align: middle;\n",
              "    }\n",
              "\n",
              "    .dataframe tbody tr th {\n",
              "        vertical-align: top;\n",
              "    }\n",
              "\n",
              "    .dataframe thead th {\n",
              "        text-align: right;\n",
              "    }\n",
              "</style>\n",
              "<table border=\"1\" class=\"dataframe\">\n",
              "  <thead>\n",
              "    <tr style=\"text-align: right;\">\n",
              "      <th></th>\n",
              "      <th>Number</th>\n",
              "      <th>Cutting depth,  (mm)</th>\n",
              "      <th>Feed rate, f (mm/min)</th>\n",
              "      <th>Spindle speed, n (r/min)</th>\n",
              "      <th>Cutting length, L (mm)</th>\n",
              "      <th>Position, h (mm)</th>\n",
              "      <th>Tool wear, VB (mm)</th>\n",
              "    </tr>\n",
              "  </thead>\n",
              "  <tbody>\n",
              "    <tr>\n",
              "      <th>0</th>\n",
              "      <td>1</td>\n",
              "      <td>1.2</td>\n",
              "      <td>120</td>\n",
              "      <td>1200</td>\n",
              "      <td>432</td>\n",
              "      <td>1.1511</td>\n",
              "      <td>0.0501</td>\n",
              "    </tr>\n",
              "    <tr>\n",
              "      <th>1</th>\n",
              "      <td>2</td>\n",
              "      <td>1.5</td>\n",
              "      <td>150</td>\n",
              "      <td>1200</td>\n",
              "      <td>504</td>\n",
              "      <td>1.1511</td>\n",
              "      <td>0.0525</td>\n",
              "    </tr>\n",
              "    <tr>\n",
              "      <th>2</th>\n",
              "      <td>3</td>\n",
              "      <td>1.5</td>\n",
              "      <td>100</td>\n",
              "      <td>1000</td>\n",
              "      <td>432</td>\n",
              "      <td>1.1511</td>\n",
              "      <td>0.0473</td>\n",
              "    </tr>\n",
              "    <tr>\n",
              "      <th>3</th>\n",
              "      <td>4</td>\n",
              "      <td>1.8</td>\n",
              "      <td>100</td>\n",
              "      <td>1200</td>\n",
              "      <td>576</td>\n",
              "      <td>1.1511</td>\n",
              "      <td>0.0105</td>\n",
              "    </tr>\n",
              "    <tr>\n",
              "      <th>4</th>\n",
              "      <td>5</td>\n",
              "      <td>1.8</td>\n",
              "      <td>150</td>\n",
              "      <td>1400</td>\n",
              "      <td>432</td>\n",
              "      <td>1.0000</td>\n",
              "      <td>0.0427</td>\n",
              "    </tr>\n",
              "  </tbody>\n",
              "</table>\n",
              "</div>\n",
              "      <button class=\"colab-df-convert\" onclick=\"convertToInteractive('df-96e09ab7-a29d-4ce6-ab9c-672d2cf51472')\"\n",
              "              title=\"Convert this dataframe to an interactive table.\"\n",
              "              style=\"display:none;\">\n",
              "        \n",
              "  <svg xmlns=\"http://www.w3.org/2000/svg\" height=\"24px\"viewBox=\"0 0 24 24\"\n",
              "       width=\"24px\">\n",
              "    <path d=\"M0 0h24v24H0V0z\" fill=\"none\"/>\n",
              "    <path d=\"M18.56 5.44l.94 2.06.94-2.06 2.06-.94-2.06-.94-.94-2.06-.94 2.06-2.06.94zm-11 1L8.5 8.5l.94-2.06 2.06-.94-2.06-.94L8.5 2.5l-.94 2.06-2.06.94zm10 10l.94 2.06.94-2.06 2.06-.94-2.06-.94-.94-2.06-.94 2.06-2.06.94z\"/><path d=\"M17.41 7.96l-1.37-1.37c-.4-.4-.92-.59-1.43-.59-.52 0-1.04.2-1.43.59L10.3 9.45l-7.72 7.72c-.78.78-.78 2.05 0 2.83L4 21.41c.39.39.9.59 1.41.59.51 0 1.02-.2 1.41-.59l7.78-7.78 2.81-2.81c.8-.78.8-2.07 0-2.86zM5.41 20L4 18.59l7.72-7.72 1.47 1.35L5.41 20z\"/>\n",
              "  </svg>\n",
              "      </button>\n",
              "      \n",
              "  <style>\n",
              "    .colab-df-container {\n",
              "      display:flex;\n",
              "      flex-wrap:wrap;\n",
              "      gap: 12px;\n",
              "    }\n",
              "\n",
              "    .colab-df-convert {\n",
              "      background-color: #E8F0FE;\n",
              "      border: none;\n",
              "      border-radius: 50%;\n",
              "      cursor: pointer;\n",
              "      display: none;\n",
              "      fill: #1967D2;\n",
              "      height: 32px;\n",
              "      padding: 0 0 0 0;\n",
              "      width: 32px;\n",
              "    }\n",
              "\n",
              "    .colab-df-convert:hover {\n",
              "      background-color: #E2EBFA;\n",
              "      box-shadow: 0px 1px 2px rgba(60, 64, 67, 0.3), 0px 1px 3px 1px rgba(60, 64, 67, 0.15);\n",
              "      fill: #174EA6;\n",
              "    }\n",
              "\n",
              "    [theme=dark] .colab-df-convert {\n",
              "      background-color: #3B4455;\n",
              "      fill: #D2E3FC;\n",
              "    }\n",
              "\n",
              "    [theme=dark] .colab-df-convert:hover {\n",
              "      background-color: #434B5C;\n",
              "      box-shadow: 0px 1px 3px 1px rgba(0, 0, 0, 0.15);\n",
              "      filter: drop-shadow(0px 1px 2px rgba(0, 0, 0, 0.3));\n",
              "      fill: #FFFFFF;\n",
              "    }\n",
              "  </style>\n",
              "\n",
              "      <script>\n",
              "        const buttonEl =\n",
              "          document.querySelector('#df-96e09ab7-a29d-4ce6-ab9c-672d2cf51472 button.colab-df-convert');\n",
              "        buttonEl.style.display =\n",
              "          google.colab.kernel.accessAllowed ? 'block' : 'none';\n",
              "\n",
              "        async function convertToInteractive(key) {\n",
              "          const element = document.querySelector('#df-96e09ab7-a29d-4ce6-ab9c-672d2cf51472');\n",
              "          const dataTable =\n",
              "            await google.colab.kernel.invokeFunction('convertToInteractive',\n",
              "                                                     [key], {});\n",
              "          if (!dataTable) return;\n",
              "\n",
              "          const docLinkHtml = 'Like what you see? Visit the ' +\n",
              "            '<a target=\"_blank\" href=https://colab.research.google.com/notebooks/data_table.ipynb>data table notebook</a>'\n",
              "            + ' to learn more about interactive tables.';\n",
              "          element.innerHTML = '';\n",
              "          dataTable['output_type'] = 'display_data';\n",
              "          await google.colab.output.renderOutput(dataTable, element);\n",
              "          const docLink = document.createElement('div');\n",
              "          docLink.innerHTML = docLinkHtml;\n",
              "          element.appendChild(docLink);\n",
              "        }\n",
              "      </script>\n",
              "    </div>\n",
              "  </div>\n",
              "  "
            ]
          },
          "metadata": {},
          "execution_count": 403
        }
      ]
    },
    {
      "cell_type": "code",
      "source": [
        "data_train = data_train.drop(\"Number\", axis = 1)\n",
        "data_train.shape"
      ],
      "metadata": {
        "colab": {
          "base_uri": "https://localhost:8080/"
        },
        "id": "3RypZLGWpDro",
        "outputId": "7020f47d-315c-4219-85c6-ffc0aafc5151"
      },
      "execution_count": null,
      "outputs": [
        {
          "output_type": "execute_result",
          "data": {
            "text/plain": [
              "(24, 6)"
            ]
          },
          "metadata": {},
          "execution_count": 346
        }
      ]
    },
    {
      "cell_type": "code",
      "source": [
        "data_train.describe()"
      ],
      "metadata": {
        "colab": {
          "base_uri": "https://localhost:8080/",
          "height": 300
        },
        "id": "_mRfP5ShpH24",
        "outputId": "898127ac-d30d-4525-de8f-6cef25536b00"
      },
      "execution_count": null,
      "outputs": [
        {
          "output_type": "execute_result",
          "data": {
            "text/plain": [
              "       Cutting depth,  (mm)  Feed rate, f (mm/min)  Spindle speed, n (r/min)  \\\n",
              "count             24.000000              24.000000                 24.000000   \n",
              "mean               1.354167             142.083333               1366.666667   \n",
              "std                0.253633              21.260121                192.617365   \n",
              "min                1.000000             100.000000               1000.000000   \n",
              "25%                1.200000             130.000000               1200.000000   \n",
              "50%                1.350000             150.000000               1400.000000   \n",
              "75%                1.500000             150.000000               1600.000000   \n",
              "max                1.800000             180.000000               1600.000000   \n",
              "\n",
              "       Cutting length, L (mm)  Position, h (mm)  Tool wear, VB (mm)  \n",
              "count               24.000000         24.000000           24.000000  \n",
              "mean               453.000000          0.978246            0.032100  \n",
              "std                 68.730096          0.193418            0.014417  \n",
              "min                360.000000          0.758700            0.010500  \n",
              "25%                432.000000          0.763400            0.020300  \n",
              "50%                432.000000          1.075550            0.028450  \n",
              "75%                504.000000          1.162100            0.044825  \n",
              "max                576.000000          1.162100            0.057700  "
            ],
            "text/html": [
              "\n",
              "  <div id=\"df-d6891105-e57a-4252-acb0-0a31f8e9ca1a\">\n",
              "    <div class=\"colab-df-container\">\n",
              "      <div>\n",
              "<style scoped>\n",
              "    .dataframe tbody tr th:only-of-type {\n",
              "        vertical-align: middle;\n",
              "    }\n",
              "\n",
              "    .dataframe tbody tr th {\n",
              "        vertical-align: top;\n",
              "    }\n",
              "\n",
              "    .dataframe thead th {\n",
              "        text-align: right;\n",
              "    }\n",
              "</style>\n",
              "<table border=\"1\" class=\"dataframe\">\n",
              "  <thead>\n",
              "    <tr style=\"text-align: right;\">\n",
              "      <th></th>\n",
              "      <th>Cutting depth,  (mm)</th>\n",
              "      <th>Feed rate, f (mm/min)</th>\n",
              "      <th>Spindle speed, n (r/min)</th>\n",
              "      <th>Cutting length, L (mm)</th>\n",
              "      <th>Position, h (mm)</th>\n",
              "      <th>Tool wear, VB (mm)</th>\n",
              "    </tr>\n",
              "  </thead>\n",
              "  <tbody>\n",
              "    <tr>\n",
              "      <th>count</th>\n",
              "      <td>24.000000</td>\n",
              "      <td>24.000000</td>\n",
              "      <td>24.000000</td>\n",
              "      <td>24.000000</td>\n",
              "      <td>24.000000</td>\n",
              "      <td>24.000000</td>\n",
              "    </tr>\n",
              "    <tr>\n",
              "      <th>mean</th>\n",
              "      <td>1.354167</td>\n",
              "      <td>142.083333</td>\n",
              "      <td>1366.666667</td>\n",
              "      <td>453.000000</td>\n",
              "      <td>0.978246</td>\n",
              "      <td>0.032100</td>\n",
              "    </tr>\n",
              "    <tr>\n",
              "      <th>std</th>\n",
              "      <td>0.253633</td>\n",
              "      <td>21.260121</td>\n",
              "      <td>192.617365</td>\n",
              "      <td>68.730096</td>\n",
              "      <td>0.193418</td>\n",
              "      <td>0.014417</td>\n",
              "    </tr>\n",
              "    <tr>\n",
              "      <th>min</th>\n",
              "      <td>1.000000</td>\n",
              "      <td>100.000000</td>\n",
              "      <td>1000.000000</td>\n",
              "      <td>360.000000</td>\n",
              "      <td>0.758700</td>\n",
              "      <td>0.010500</td>\n",
              "    </tr>\n",
              "    <tr>\n",
              "      <th>25%</th>\n",
              "      <td>1.200000</td>\n",
              "      <td>130.000000</td>\n",
              "      <td>1200.000000</td>\n",
              "      <td>432.000000</td>\n",
              "      <td>0.763400</td>\n",
              "      <td>0.020300</td>\n",
              "    </tr>\n",
              "    <tr>\n",
              "      <th>50%</th>\n",
              "      <td>1.350000</td>\n",
              "      <td>150.000000</td>\n",
              "      <td>1400.000000</td>\n",
              "      <td>432.000000</td>\n",
              "      <td>1.075550</td>\n",
              "      <td>0.028450</td>\n",
              "    </tr>\n",
              "    <tr>\n",
              "      <th>75%</th>\n",
              "      <td>1.500000</td>\n",
              "      <td>150.000000</td>\n",
              "      <td>1600.000000</td>\n",
              "      <td>504.000000</td>\n",
              "      <td>1.162100</td>\n",
              "      <td>0.044825</td>\n",
              "    </tr>\n",
              "    <tr>\n",
              "      <th>max</th>\n",
              "      <td>1.800000</td>\n",
              "      <td>180.000000</td>\n",
              "      <td>1600.000000</td>\n",
              "      <td>576.000000</td>\n",
              "      <td>1.162100</td>\n",
              "      <td>0.057700</td>\n",
              "    </tr>\n",
              "  </tbody>\n",
              "</table>\n",
              "</div>\n",
              "      <button class=\"colab-df-convert\" onclick=\"convertToInteractive('df-d6891105-e57a-4252-acb0-0a31f8e9ca1a')\"\n",
              "              title=\"Convert this dataframe to an interactive table.\"\n",
              "              style=\"display:none;\">\n",
              "        \n",
              "  <svg xmlns=\"http://www.w3.org/2000/svg\" height=\"24px\"viewBox=\"0 0 24 24\"\n",
              "       width=\"24px\">\n",
              "    <path d=\"M0 0h24v24H0V0z\" fill=\"none\"/>\n",
              "    <path d=\"M18.56 5.44l.94 2.06.94-2.06 2.06-.94-2.06-.94-.94-2.06-.94 2.06-2.06.94zm-11 1L8.5 8.5l.94-2.06 2.06-.94-2.06-.94L8.5 2.5l-.94 2.06-2.06.94zm10 10l.94 2.06.94-2.06 2.06-.94-2.06-.94-.94-2.06-.94 2.06-2.06.94z\"/><path d=\"M17.41 7.96l-1.37-1.37c-.4-.4-.92-.59-1.43-.59-.52 0-1.04.2-1.43.59L10.3 9.45l-7.72 7.72c-.78.78-.78 2.05 0 2.83L4 21.41c.39.39.9.59 1.41.59.51 0 1.02-.2 1.41-.59l7.78-7.78 2.81-2.81c.8-.78.8-2.07 0-2.86zM5.41 20L4 18.59l7.72-7.72 1.47 1.35L5.41 20z\"/>\n",
              "  </svg>\n",
              "      </button>\n",
              "      \n",
              "  <style>\n",
              "    .colab-df-container {\n",
              "      display:flex;\n",
              "      flex-wrap:wrap;\n",
              "      gap: 12px;\n",
              "    }\n",
              "\n",
              "    .colab-df-convert {\n",
              "      background-color: #E8F0FE;\n",
              "      border: none;\n",
              "      border-radius: 50%;\n",
              "      cursor: pointer;\n",
              "      display: none;\n",
              "      fill: #1967D2;\n",
              "      height: 32px;\n",
              "      padding: 0 0 0 0;\n",
              "      width: 32px;\n",
              "    }\n",
              "\n",
              "    .colab-df-convert:hover {\n",
              "      background-color: #E2EBFA;\n",
              "      box-shadow: 0px 1px 2px rgba(60, 64, 67, 0.3), 0px 1px 3px 1px rgba(60, 64, 67, 0.15);\n",
              "      fill: #174EA6;\n",
              "    }\n",
              "\n",
              "    [theme=dark] .colab-df-convert {\n",
              "      background-color: #3B4455;\n",
              "      fill: #D2E3FC;\n",
              "    }\n",
              "\n",
              "    [theme=dark] .colab-df-convert:hover {\n",
              "      background-color: #434B5C;\n",
              "      box-shadow: 0px 1px 3px 1px rgba(0, 0, 0, 0.15);\n",
              "      filter: drop-shadow(0px 1px 2px rgba(0, 0, 0, 0.3));\n",
              "      fill: #FFFFFF;\n",
              "    }\n",
              "  </style>\n",
              "\n",
              "      <script>\n",
              "        const buttonEl =\n",
              "          document.querySelector('#df-d6891105-e57a-4252-acb0-0a31f8e9ca1a button.colab-df-convert');\n",
              "        buttonEl.style.display =\n",
              "          google.colab.kernel.accessAllowed ? 'block' : 'none';\n",
              "\n",
              "        async function convertToInteractive(key) {\n",
              "          const element = document.querySelector('#df-d6891105-e57a-4252-acb0-0a31f8e9ca1a');\n",
              "          const dataTable =\n",
              "            await google.colab.kernel.invokeFunction('convertToInteractive',\n",
              "                                                     [key], {});\n",
              "          if (!dataTable) return;\n",
              "\n",
              "          const docLinkHtml = 'Like what you see? Visit the ' +\n",
              "            '<a target=\"_blank\" href=https://colab.research.google.com/notebooks/data_table.ipynb>data table notebook</a>'\n",
              "            + ' to learn more about interactive tables.';\n",
              "          element.innerHTML = '';\n",
              "          dataTable['output_type'] = 'display_data';\n",
              "          await google.colab.output.renderOutput(dataTable, element);\n",
              "          const docLink = document.createElement('div');\n",
              "          docLink.innerHTML = docLinkHtml;\n",
              "          element.appendChild(docLink);\n",
              "        }\n",
              "      </script>\n",
              "    </div>\n",
              "  </div>\n",
              "  "
            ]
          },
          "metadata": {},
          "execution_count": 347
        }
      ]
    },
    {
      "cell_type": "code",
      "source": [
        "data_train.corr()[\"Tool wear, VB (mm)\"][:-1]"
      ],
      "metadata": {
        "colab": {
          "base_uri": "https://localhost:8080/"
        },
        "id": "-9mT_bB3s9TW",
        "outputId": "ad1d89a2-3912-4173-9e95-e14a50e77c30"
      },
      "execution_count": null,
      "outputs": [
        {
          "output_type": "execute_result",
          "data": {
            "text/plain": [
              "Cutting depth,  (mm)        0.314740\n",
              "Feed rate, f (mm/min)      -0.187246\n",
              "Spindle speed, n (r/min)   -0.484428\n",
              "Cutting length, L (mm)      0.308979\n",
              "Position, h (mm)           -0.343072\n",
              "Name: Tool wear, VB (mm), dtype: float64"
            ]
          },
          "metadata": {},
          "execution_count": 348
        }
      ]
    },
    {
      "cell_type": "code",
      "source": [
        "plt.scatter(data_train.iloc[:,0],data_train['Tool wear, VB (mm)'])\n",
        "plt.xlabel('Cutting Depth (mm)')\n",
        "plt.ylabel(\"Tool Wear (mm)\")"
      ],
      "metadata": {
        "colab": {
          "base_uri": "https://localhost:8080/",
          "height": 301
        },
        "id": "-PvmKQ7quAYk",
        "outputId": "9b1e47c3-0658-4bc5-e076-36a71435c0f8"
      },
      "execution_count": null,
      "outputs": [
        {
          "output_type": "execute_result",
          "data": {
            "text/plain": [
              "Text(0, 0.5, 'Tool Wear (mm)')"
            ]
          },
          "metadata": {},
          "execution_count": 350
        },
        {
          "output_type": "display_data",
          "data": {
            "text/plain": [
              "<Figure size 432x288 with 1 Axes>"
            ],
            "image/png": "[encoded data removed]"
          },
          "metadata": {
            "needs_background": "light"
          }
        }
      ]
    },
    {
      "cell_type": "code",
      "source": [
        "data_validate = pd.read_excel(\"validation_set.xlsx\")\n",
        "X_val = data_validate.drop([\"Number\",\"Tool wear, VB (mm)\"], axis = 1)\n",
        "y_val = data_validate[\"Tool wear, VB (mm)\"]\n",
        "X_train = data_train.drop(\"Tool wear, VB (mm)\", axis = 1)\n",
        "y_train = data_train['Tool wear, VB (mm)']"
      ],
      "metadata": {
        "id": "yNsDHtUVwCTO"
      },
      "execution_count": null,
      "outputs": []
    },
    {
      "cell_type": "code",
      "source": [
        "from sklearn.preprocessing import StandardScaler\n",
        "scaler = StandardScaler()\n",
        "scaler.fit(X_train)\n",
        "X_train = scaler.transform(X_train)\n",
        "X_val = scaler.transform(X_val)"
      ],
      "metadata": {
        "id": "iobgUTdD03L7"
      },
      "execution_count": null,
      "outputs": []
    },
    {
      "cell_type": "markdown",
      "source": [
        "# **Original Dataset**"
      ],
      "metadata": {
        "id": "Ff-d5UOkmzkv"
      }
    },
    {
      "cell_type": "code",
      "source": [
        "regsk = LinearRegression().fit(X_train, y_train)\n",
        "y_pred_ol = regsk.predict(X_val)\n",
        "print(re(y_val, y_pred_ol))\n",
        "plt.plot(range(8),y_pred_ol,label ='PREDICTED' )\n",
        "plt.plot(range(8),y_val,label = 'TRUE')\n",
        "plt.title('Original Dataset Linear Regression')\n",
        "plt.legend()"
      ],
      "metadata": {
        "colab": {
          "base_uri": "https://localhost:8080/",
          "height": 317
        },
        "id": "y4nRvxTovz3S",
        "outputId": "68555230-6615-4477-fc9d-ba7ea984569d"
      },
      "execution_count": null,
      "outputs": [
        {
          "output_type": "stream",
          "name": "stdout",
          "text": [
            "0.27049356114762024\n"
          ]
        },
        {
          "output_type": "execute_result",
          "data": {
            "text/plain": [
              "<matplotlib.legend.Legend at 0x7faa6b59be90>"
            ]
          },
          "metadata": {},
          "execution_count": 354
        },
        {
          "output_type": "display_data",
          "data": {
            "text/plain": [
              "<Figure size 432x288 with 1 Axes>"
            ],
            "image/png": "[encoded data removed]"
          },
          "metadata": {
            "needs_background": "light"
          }
        }
      ]
    },
    {
      "cell_type": "code",
      "source": [
        "from sklearn.neighbors import KNeighborsRegressor \n",
        "neigh = KNeighborsRegressor(n_neighbors=5)\n",
        "neigh.fit(X_train, y_train)"
      ],
      "metadata": {
        "colab": {
          "base_uri": "https://localhost:8080/"
        },
        "id": "j10i9_wtxx-b",
        "outputId": "6686fa70-60b1-4155-ab48-caa397aa8d8c"
      },
      "execution_count": null,
      "outputs": [
        {
          "output_type": "execute_result",
          "data": {
            "text/plain": [
              "KNeighborsRegressor()"
            ]
          },
          "metadata": {},
          "execution_count": 355
        }
      ]
    },
    {
      "cell_type": "code",
      "source": [
        "y_pred_ok = neigh.predict(X_val)\n",
        "print(re(y_val, y_pred_ok))\n",
        "plt.plot(range(8),y_pred_ok,label ='PREDICTED' )\n",
        "plt.plot(range(8),y_val,label = 'TRUE')\n",
        "plt.legend()\n",
        "plt.title('Original Dataset KNN Regression')"
      ],
      "metadata": {
        "colab": {
          "base_uri": "https://localhost:8080/",
          "height": 317
        },
        "id": "deJhJkXRapkl",
        "outputId": "09c58cf3-44fa-47e2-a396-fae5043b6662"
      },
      "execution_count": null,
      "outputs": [
        {
          "output_type": "stream",
          "name": "stdout",
          "text": [
            "0.17742924127967596\n"
          ]
        },
        {
          "output_type": "execute_result",
          "data": {
            "text/plain": [
              "Text(0.5, 1.0, 'Original Dataset KNN Regression')"
            ]
          },
          "metadata": {},
          "execution_count": 356
        },
        {
          "output_type": "display_data",
          "data": {
            "text/plain": [
              "<Figure size 432x288 with 1 Axes>"
            ],
            "image/png": "[encoded data removed]"
          },
          "metadata": {
            "needs_background": "light"
          }
        }
      ]
    },
    {
      "cell_type": "code",
      "source": [
        "import tensorflow as tf\n",
        "from tensorflow.keras import Sequential\n",
        "from tensorflow.keras.layers import Dense"
      ],
      "metadata": {
        "id": "-bz3iiv-0cFI"
      },
      "execution_count": null,
      "outputs": []
    },
    {
      "cell_type": "code",
      "source": [
        "model = Sequential([Dense(units = 2 , activation = 'sigmoid'),Dense(units = 1, activation = 'linear')])"
      ],
      "metadata": {
        "id": "JKKvuueA1TOS"
      },
      "execution_count": null,
      "outputs": []
    },
    {
      "cell_type": "code",
      "source": [
        "from tensorflow.keras.losses import MeanAbsoluteError\n",
        "\n",
        "model.compile(optimizer = tf.keras.optimizers.Adam(learning_rate=1e-3), loss = MeanAbsoluteError() )\n",
        "model.fit(X_train, y_train, epochs = 700)"
      ],
      "metadata": {
        "id": "CZrvd9Nd14ir"
      },
      "execution_count": null,
      "outputs": []
    },
    {
      "cell_type": "code",
      "source": [
        "y_pred_on = model.predict(X_val)\n",
        "print(re(y_val, y_pred_on))\n",
        "plt.plot(range(8),y_pred_on,label ='PREDICTED' )\n",
        "plt.plot(range(8),y_val,label = 'TRUE')\n",
        "plt.legend()\n",
        "plt.title('Original Dataset Neural Network')"
      ],
      "metadata": {
        "colab": {
          "base_uri": "https://localhost:8080/",
          "height": 336
        },
        "id": "_FSMD78MV23F",
        "outputId": "5caf97f7-b1a0-4970-c36c-87ced6a2397c"
      },
      "execution_count": null,
      "outputs": [
        {
          "output_type": "stream",
          "name": "stdout",
          "text": [
            "1/1 [==============================] - 0s 47ms/step\n",
            "[0.46383262]\n"
          ]
        },
        {
          "output_type": "execute_result",
          "data": {
            "text/plain": [
              "Text(0.5, 1.0, 'Original Dataset Neural Network')"
            ]
          },
          "metadata": {},
          "execution_count": 361
        },
        {
          "output_type": "display_data",
          "data": {
            "text/plain": [
              "<Figure size 432x288 with 1 Axes>"
            ],
            "image/png": "[encoded data removed]"
          },
          "metadata": {
            "needs_background": "light"
          }
        }
      ]
    },
    {
      "cell_type": "code",
      "source": [
        "data_train = pd.read_excel(\"training_set.xlsx\")"
      ],
      "metadata": {
        "id": "bmLygFtKpyE9"
      },
      "execution_count": null,
      "outputs": []
    },
    {
      "cell_type": "code",
      "source": [
        "#feature engineering\n",
        "newt_dataset = data_train.copy()\n",
        "newt_dataset['F_mm_per_rev'] = newt_dataset['Feed rate, f (mm/min)']/newt_dataset['Spindle speed, n (r/min)']\n",
        "newt_dataset['time'] = newt_dataset['Cutting length, L (mm)']/newt_dataset['Feed rate, f (mm/min)']\n",
        "\n",
        "newv_dataset = data_validate.copy()\n",
        "newv_dataset['F_mm_per_rev'] = newv_dataset['Feed rate, f (mm/min)']/newv_dataset['Spindle speed, n (r/min)']\n",
        "newv_dataset['time'] = newv_dataset['Cutting length, L (mm)']/newv_dataset['Feed rate, f (mm/min)']\n",
        "\n",
        "newt_dataset.head()"
      ],
      "metadata": {
        "id": "ZWO3aRhjorhv",
        "colab": {
          "base_uri": "https://localhost:8080/",
          "height": 206
        },
        "outputId": "33db74a3-33e1-466a-fc23-80b77b44ddf0"
      },
      "execution_count": null,
      "outputs": [
        {
          "output_type": "execute_result",
          "data": {
            "text/plain": [
              "   Number  Cutting depth,  (mm)  Feed rate, f (mm/min)  \\\n",
              "0       1                   1.2                    120   \n",
              "1       2                   1.5                    150   \n",
              "2       3                   1.5                    100   \n",
              "3       4                   1.8                    100   \n",
              "4       5                   1.8                    150   \n",
              "\n",
              "   Spindle speed, n (r/min)  Cutting length, L (mm)  Position, h (mm)  \\\n",
              "0                      1200                     432            1.1511   \n",
              "1                      1200                     504            1.1511   \n",
              "2                      1000                     432            1.1511   \n",
              "3                      1200                     576            1.1511   \n",
              "4                      1400                     432            1.0000   \n",
              "\n",
              "   Tool wear, VB (mm)  F_mm_per_rev  time  \n",
              "0              0.0501      0.100000  3.60  \n",
              "1              0.0525      0.125000  3.36  \n",
              "2              0.0473      0.100000  4.32  \n",
              "3              0.0105      0.083333  5.76  \n",
              "4              0.0427      0.107143  2.88  "
            ],
            "text/html": [
              "\n",
              "  <div id=\"df-e3c9064e-357c-486e-9605-80dadcf5c826\">\n",
              "    <div class=\"colab-df-container\">\n",
              "      <div>\n",
              "<style scoped>\n",
              "    .dataframe tbody tr th:only-of-type {\n",
              "        vertical-align: middle;\n",
              "    }\n",
              "\n",
              "    .dataframe tbody tr th {\n",
              "        vertical-align: top;\n",
              "    }\n",
              "\n",
              "    .dataframe thead th {\n",
              "        text-align: right;\n",
              "    }\n",
              "</style>\n",
              "<table border=\"1\" class=\"dataframe\">\n",
              "  <thead>\n",
              "    <tr style=\"text-align: right;\">\n",
              "      <th></th>\n",
              "      <th>Number</th>\n",
              "      <th>Cutting depth,  (mm)</th>\n",
              "      <th>Feed rate, f (mm/min)</th>\n",
              "      <th>Spindle speed, n (r/min)</th>\n",
              "      <th>Cutting length, L (mm)</th>\n",
              "      <th>Position, h (mm)</th>\n",
              "      <th>Tool wear, VB (mm)</th>\n",
              "      <th>F_mm_per_rev</th>\n",
              "      <th>time</th>\n",
              "    </tr>\n",
              "  </thead>\n",
              "  <tbody>\n",
              "    <tr>\n",
              "      <th>0</th>\n",
              "      <td>1</td>\n",
              "      <td>1.2</td>\n",
              "      <td>120</td>\n",
              "      <td>1200</td>\n",
              "      <td>432</td>\n",
              "      <td>1.1511</td>\n",
              "      <td>0.0501</td>\n",
              "      <td>0.100000</td>\n",
              "      <td>3.60</td>\n",
              "    </tr>\n",
              "    <tr>\n",
              "      <th>1</th>\n",
              "      <td>2</td>\n",
              "      <td>1.5</td>\n",
              "      <td>150</td>\n",
              "      <td>1200</td>\n",
              "      <td>504</td>\n",
              "      <td>1.1511</td>\n",
              "      <td>0.0525</td>\n",
              "      <td>0.125000</td>\n",
              "      <td>3.36</td>\n",
              "    </tr>\n",
              "    <tr>\n",
              "      <th>2</th>\n",
              "      <td>3</td>\n",
              "      <td>1.5</td>\n",
              "      <td>100</td>\n",
              "      <td>1000</td>\n",
              "      <td>432</td>\n",
              "      <td>1.1511</td>\n",
              "      <td>0.0473</td>\n",
              "      <td>0.100000</td>\n",
              "      <td>4.32</td>\n",
              "    </tr>\n",
              "    <tr>\n",
              "      <th>3</th>\n",
              "      <td>4</td>\n",
              "      <td>1.8</td>\n",
              "      <td>100</td>\n",
              "      <td>1200</td>\n",
              "      <td>576</td>\n",
              "      <td>1.1511</td>\n",
              "      <td>0.0105</td>\n",
              "      <td>0.083333</td>\n",
              "      <td>5.76</td>\n",
              "    </tr>\n",
              "    <tr>\n",
              "      <th>4</th>\n",
              "      <td>5</td>\n",
              "      <td>1.8</td>\n",
              "      <td>150</td>\n",
              "      <td>1400</td>\n",
              "      <td>432</td>\n",
              "      <td>1.0000</td>\n",
              "      <td>0.0427</td>\n",
              "      <td>0.107143</td>\n",
              "      <td>2.88</td>\n",
              "    </tr>\n",
              "  </tbody>\n",
              "</table>\n",
              "</div>\n",
              "      <button class=\"colab-df-convert\" onclick=\"convertToInteractive('df-e3c9064e-357c-486e-9605-80dadcf5c826')\"\n",
              "              title=\"Convert this dataframe to an interactive table.\"\n",
              "              style=\"display:none;\">\n",
              "        \n",
              "  <svg xmlns=\"http://www.w3.org/2000/svg\" height=\"24px\"viewBox=\"0 0 24 24\"\n",
              "       width=\"24px\">\n",
              "    <path d=\"M0 0h24v24H0V0z\" fill=\"none\"/>\n",
              "    <path d=\"M18.56 5.44l.94 2.06.94-2.06 2.06-.94-2.06-.94-.94-2.06-.94 2.06-2.06.94zm-11 1L8.5 8.5l.94-2.06 2.06-.94-2.06-.94L8.5 2.5l-.94 2.06-2.06.94zm10 10l.94 2.06.94-2.06 2.06-.94-2.06-.94-.94-2.06-.94 2.06-2.06.94z\"/><path d=\"M17.41 7.96l-1.37-1.37c-.4-.4-.92-.59-1.43-.59-.52 0-1.04.2-1.43.59L10.3 9.45l-7.72 7.72c-.78.78-.78 2.05 0 2.83L4 21.41c.39.39.9.59 1.41.59.51 0 1.02-.2 1.41-.59l7.78-7.78 2.81-2.81c.8-.78.8-2.07 0-2.86zM5.41 20L4 18.59l7.72-7.72 1.47 1.35L5.41 20z\"/>\n",
              "  </svg>\n",
              "      </button>\n",
              "      \n",
              "  <style>\n",
              "    .colab-df-container {\n",
              "      display:flex;\n",
              "      flex-wrap:wrap;\n",
              "      gap: 12px;\n",
              "    }\n",
              "\n",
              "    .colab-df-convert {\n",
              "      background-color: #E8F0FE;\n",
              "      border: none;\n",
              "      border-radius: 50%;\n",
              "      cursor: pointer;\n",
              "      display: none;\n",
              "      fill: #1967D2;\n",
              "      height: 32px;\n",
              "      padding: 0 0 0 0;\n",
              "      width: 32px;\n",
              "    }\n",
              "\n",
              "    .colab-df-convert:hover {\n",
              "      background-color: #E2EBFA;\n",
              "      box-shadow: 0px 1px 2px rgba(60, 64, 67, 0.3), 0px 1px 3px 1px rgba(60, 64, 67, 0.15);\n",
              "      fill: #174EA6;\n",
              "    }\n",
              "\n",
              "    [theme=dark] .colab-df-convert {\n",
              "      background-color: #3B4455;\n",
              "      fill: #D2E3FC;\n",
              "    }\n",
              "\n",
              "    [theme=dark] .colab-df-convert:hover {\n",
              "      background-color: #434B5C;\n",
              "      box-shadow: 0px 1px 3px 1px rgba(0, 0, 0, 0.15);\n",
              "      filter: drop-shadow(0px 1px 2px rgba(0, 0, 0, 0.3));\n",
              "      fill: #FFFFFF;\n",
              "    }\n",
              "  </style>\n",
              "\n",
              "      <script>\n",
              "        const buttonEl =\n",
              "          document.querySelector('#df-e3c9064e-357c-486e-9605-80dadcf5c826 button.colab-df-convert');\n",
              "        buttonEl.style.display =\n",
              "          google.colab.kernel.accessAllowed ? 'block' : 'none';\n",
              "\n",
              "        async function convertToInteractive(key) {\n",
              "          const element = document.querySelector('#df-e3c9064e-357c-486e-9605-80dadcf5c826');\n",
              "          const dataTable =\n",
              "            await google.colab.kernel.invokeFunction('convertToInteractive',\n",
              "                                                     [key], {});\n",
              "          if (!dataTable) return;\n",
              "\n",
              "          const docLinkHtml = 'Like what you see? Visit the ' +\n",
              "            '<a target=\"_blank\" href=https://colab.research.google.com/notebooks/data_table.ipynb>data table notebook</a>'\n",
              "            + ' to learn more about interactive tables.';\n",
              "          element.innerHTML = '';\n",
              "          dataTable['output_type'] = 'display_data';\n",
              "          await google.colab.output.renderOutput(dataTable, element);\n",
              "          const docLink = document.createElement('div');\n",
              "          docLink.innerHTML = docLinkHtml;\n",
              "          element.appendChild(docLink);\n",
              "        }\n",
              "      </script>\n",
              "    </div>\n",
              "  </div>\n",
              "  "
            ]
          },
          "metadata": {},
          "execution_count": 363
        }
      ]
    },
    {
      "cell_type": "code",
      "source": [
        "X_val = newv_dataset.drop([\"Number\",\"Tool wear, VB (mm)\"], axis = 1)\n",
        "y_val = newv_dataset[\"Tool wear, VB (mm)\"]\n",
        "\n",
        "X_train = newt_dataset.drop([\"Number\",\"Tool wear, VB (mm)\"], axis = 1)\n",
        "y_train = newt_dataset['Tool wear, VB (mm)']"
      ],
      "metadata": {
        "id": "UXEQyahFsFJC"
      },
      "execution_count": null,
      "outputs": []
    },
    {
      "cell_type": "markdown",
      "source": [
        "# **Feature Engineered Dataset**"
      ],
      "metadata": {
        "id": "uXMBhqlgnK--"
      }
    },
    {
      "cell_type": "code",
      "source": [
        "from sklearn.preprocessing import StandardScaler\n",
        "scaler = StandardScaler()\n",
        "scaler.fit(X_train)\n",
        "X_train = scaler.transform(X_train)\n",
        "X_val = scaler.transform(X_val)"
      ],
      "metadata": {
        "id": "bIkNxg4ps8ox",
        "outputId": "cecac883-1240-4368-c451-ffa33e17666a",
        "colab": {
          "base_uri": "https://localhost:8080/",
          "height": 244
        }
      },
      "execution_count": null,
      "outputs": [
        {
          "output_type": "error",
          "ename": "NameError",
          "evalue": "ignored",
          "traceback": [
            "\u001b[0;31m---------------------------------------------------------------------------\u001b[0m",
            "\u001b[0;31mNameError\u001b[0m                                 Traceback (most recent call last)",
            "\u001b[0;32m<ipython-input-1-ce3980d6ce7d>\u001b[0m in \u001b[0;36m<module>\u001b[0;34m\u001b[0m\n\u001b[1;32m      1\u001b[0m \u001b[0;32mfrom\u001b[0m \u001b[0msklearn\u001b[0m\u001b[0;34m.\u001b[0m\u001b[0mpreprocessing\u001b[0m \u001b[0;32mimport\u001b[0m \u001b[0mStandardScaler\u001b[0m\u001b[0;34m\u001b[0m\u001b[0;34m\u001b[0m\u001b[0m\n\u001b[1;32m      2\u001b[0m \u001b[0mscaler\u001b[0m \u001b[0;34m=\u001b[0m \u001b[0mStandardScaler\u001b[0m\u001b[0;34m(\u001b[0m\u001b[0;34m)\u001b[0m\u001b[0;34m\u001b[0m\u001b[0;34m\u001b[0m\u001b[0m\n\u001b[0;32m----> 3\u001b[0;31m \u001b[0mscaler\u001b[0m\u001b[0;34m.\u001b[0m\u001b[0mfit\u001b[0m\u001b[0;34m(\u001b[0m\u001b[0mX_train\u001b[0m\u001b[0;34m)\u001b[0m\u001b[0;34m\u001b[0m\u001b[0;34m\u001b[0m\u001b[0m\n\u001b[0m\u001b[1;32m      4\u001b[0m \u001b[0mX_train\u001b[0m \u001b[0;34m=\u001b[0m \u001b[0mscaler\u001b[0m\u001b[0;34m.\u001b[0m\u001b[0mtransform\u001b[0m\u001b[0;34m(\u001b[0m\u001b[0mX_train\u001b[0m\u001b[0;34m)\u001b[0m\u001b[0;34m\u001b[0m\u001b[0;34m\u001b[0m\u001b[0m\n\u001b[1;32m      5\u001b[0m \u001b[0mX_val\u001b[0m \u001b[0;34m=\u001b[0m \u001b[0mscaler\u001b[0m\u001b[0;34m.\u001b[0m\u001b[0mtransform\u001b[0m\u001b[0;34m(\u001b[0m\u001b[0mX_val\u001b[0m\u001b[0;34m)\u001b[0m\u001b[0;34m\u001b[0m\u001b[0;34m\u001b[0m\u001b[0m\n",
            "\u001b[0;31mNameError\u001b[0m: name 'X_train' is not defined"
          ]
        }
      ]
    },
    {
      "cell_type": "code",
      "source": [
        "regsk = LinearRegression().fit(X_train, y_train)\n",
        "y_pred_el = regsk.predict(X_val)\n",
        "print(re(y_val, y_pred_el))\n",
        "plt.plot(range(8),y_pred_el,label ='PREDICTED' )\n",
        "plt.plot(range(8),y_val,label = 'TRUE')\n",
        "plt.legend()\n",
        "plt.title('Engineered Dataset Linear Regression')\n"
      ],
      "metadata": {
        "id": "fs2vI_watOio"
      },
      "execution_count": null,
      "outputs": []
    },
    {
      "cell_type": "code",
      "source": [
        "neigh = KNeighborsRegressor(n_neighbors=5)\n",
        "neigh.fit(X_train, y_train)\n",
        "y_pred_ek = neigh.predict(X_val)\n",
        "print(re(y_val, y_pred_ek))\n",
        "plt.plot(range(8),y_pred_ek,label ='PREDICTED' )\n",
        "plt.plot(range(8),y_val,label = 'TRUE')\n",
        "plt.legend()\n",
        "plt.title('Engineered Dataset KNN Regression')"
      ],
      "metadata": {
        "id": "_JAfSXP9mapG"
      },
      "execution_count": null,
      "outputs": []
    },
    {
      "cell_type": "code",
      "source": [
        "model = Sequential([Dense(units = 2 , activation = 'sigmoid'),Dense(units = 1, activation = 'linear')])\n",
        "model.compile(optimizer = tf.keras.optimizers.Adam(learning_rate=1e-3), loss = MeanAbsoluteError() )\n",
        "model.fit(X_train, y_train, epochs = 700)"
      ],
      "metadata": {
        "id": "fkiA1Z4utx9x"
      },
      "execution_count": null,
      "outputs": []
    },
    {
      "cell_type": "code",
      "source": [
        "y_pred_en = model.predict(X_val)\n",
        "print(re(y_val, y_pred_en))\n",
        "plt.plot(range(8),y_pred_en,label ='PREDICTED' )\n",
        "plt.plot(range(8),y_val,label = 'TRUE')\n",
        "plt.legend()\n",
        "plt.title('Engineered Dataset Neural Network')"
      ],
      "metadata": {
        "id": "JsYTP6k9tVQg"
      },
      "execution_count": null,
      "outputs": []
    },
    {
      "cell_type": "markdown",
      "source": [
        "# **Feature Selected Dataset**"
      ],
      "metadata": {
        "id": "3B3fTgvYnVcW"
      }
    },
    {
      "cell_type": "code",
      "source": [
        "newt_dataset.corr()[\"Tool wear, VB (mm)\"][1:]"
      ],
      "metadata": {
        "colab": {
          "base_uri": "https://localhost:8080/"
        },
        "id": "KusjyeeNnbJt",
        "outputId": "b0ba9dd9-3319-4672-9f10-5ff247cad05f"
      },
      "execution_count": null,
      "outputs": [
        {
          "output_type": "execute_result",
          "data": {
            "text/plain": [
              "Cutting depth,  (mm)        0.314740\n",
              "Feed rate, f (mm/min)      -0.187246\n",
              "Spindle speed, n (r/min)   -0.484428\n",
              "Cutting length, L (mm)      0.308979\n",
              "Position, h (mm)           -0.343072\n",
              "Tool wear, VB (mm)          1.000000\n",
              "F_mm_per_rev                0.264768\n",
              "time                        0.212545\n",
              "Name: Tool wear, VB (mm), dtype: float64"
            ]
          },
          "metadata": {},
          "execution_count": 373
        }
      ]
    },
    {
      "cell_type": "code",
      "source": [
        "X_trains = X_train[:,[2]]\n",
        "X_vals= X_val[:,[2]]"
      ],
      "metadata": {
        "id": "Bx4oPgLLo1yD"
      },
      "execution_count": null,
      "outputs": []
    },
    {
      "cell_type": "code",
      "source": [
        "regsk = LinearRegression().fit(X_trains, y_train)\n",
        "y_pred_sl = regsk.predict(X_vals)\n",
        "print(re(y_val, y_pred_sl))\n",
        "plt.plot(range(8),y_pred_sl,label ='PREDICTED' )\n",
        "plt.plot(range(8),y_val,label = 'TRUE')\n",
        "plt.legend()\n",
        "plt.title('Selected Dataset Linear Regression')"
      ],
      "metadata": {
        "colab": {
          "base_uri": "https://localhost:8080/",
          "height": 317
        },
        "id": "4lim4kS6p0uD",
        "outputId": "cdaef945-a96f-4b3f-ebed-f9060b1d00a5"
      },
      "execution_count": null,
      "outputs": [
        {
          "output_type": "stream",
          "name": "stdout",
          "text": [
            "0.19537338191489761\n"
          ]
        },
        {
          "output_type": "execute_result",
          "data": {
            "text/plain": [
              "Text(0.5, 1.0, 'Selected Dataset Linear Regression')"
            ]
          },
          "metadata": {},
          "execution_count": 397
        },
        {
          "output_type": "display_data",
          "data": {
            "text/plain": [
              "<Figure size 432x288 with 1 Axes>"
            ],
            "image/png": "[encoded data removed]"
          },
          "metadata": {
            "needs_background": "light"
          }
        }
      ]
    },
    {
      "cell_type": "code",
      "source": [
        "neigh = KNeighborsRegressor(n_neighbors=5)\n",
        "neigh.fit(X_trains, y_train)\n",
        "y_pred_sk = neigh.predict(X_vals)\n",
        "print(re(y_val, y_pred_sk))\n",
        "plt.plot(range(8),y_pred_sk,label ='PREDICTED' )\n",
        "plt.plot(range(8),y_val,label = 'TRUE')\n",
        "plt.legend()\n",
        "plt.title('Selected Dataset KNN Regression')"
      ],
      "metadata": {
        "colab": {
          "base_uri": "https://localhost:8080/",
          "height": 317
        },
        "id": "KwTKvDlyp6RD",
        "outputId": "1e9fad58-e332-4073-9981-e9b3f9863be6"
      },
      "execution_count": null,
      "outputs": [
        {
          "output_type": "stream",
          "name": "stdout",
          "text": [
            "0.2542394271832249\n"
          ]
        },
        {
          "output_type": "execute_result",
          "data": {
            "text/plain": [
              "Text(0.5, 1.0, 'Selected Dataset KNN Regression')"
            ]
          },
          "metadata": {},
          "execution_count": 398
        },
        {
          "output_type": "display_data",
          "data": {
            "text/plain": [
              "<Figure size 432x288 with 1 Axes>"
            ],
            "image/png": "[encoded data removed]"
          },
          "metadata": {
            "needs_background": "light"
          }
        }
      ]
    },
    {
      "cell_type": "code",
      "source": [
        "model = Sequential([Dense(units = 2 , activation = 'sigmoid'),Dense(units = 1, activation = 'linear')])\n",
        "model.compile(optimizer = tf.keras.optimizers.Adam(learning_rate=1e-3), loss = MeanAbsoluteError() )\n",
        "model.fit(X_trains, y_train, epochs = 700)"
      ],
      "metadata": {
        "id": "GU-FATmBp82s"
      },
      "execution_count": null,
      "outputs": []
    },
    {
      "cell_type": "code",
      "source": [
        "y_pred_sn = model.predict(X_vals)\n",
        "print(f'MRE :{re(y_val, y_pred_sn)}')\n",
        "plt.plot(range(8),y_pred_sn,label ='PREDICTED' )\n",
        "plt.plot(range(8),y_val,label = 'TRUE')\n",
        "plt.legend()\n",
        "plt.title('Selected Dataset Neural Network')"
      ],
      "metadata": {
        "colab": {
          "base_uri": "https://localhost:8080/",
          "height": 336
        },
        "id": "lNNXvL_Pp_m8",
        "outputId": "13a94d3f-dad4-4260-cdcc-6588ecdd501a"
      },
      "execution_count": null,
      "outputs": [
        {
          "output_type": "stream",
          "name": "stdout",
          "text": [
            "1/1 [==============================] - 0s 25ms/step\n",
            "MRE :[0.1822207]\n"
          ]
        },
        {
          "output_type": "execute_result",
          "data": {
            "text/plain": [
              "Text(0.5, 1.0, 'Selected Dataset Neural Network')"
            ]
          },
          "metadata": {},
          "execution_count": 405
        },
        {
          "output_type": "display_data",
          "data": {
            "text/plain": [
              "<Figure size 432x288 with 1 Axes>"
            ],
            "image/png": "[encoded data removed]"
          },
          "metadata": {
            "needs_background": "light"
          }
        }
      ]
    },
    {
      "cell_type": "markdown",
      "source": [
        "# **Ensemble model**"
      ],
      "metadata": {
        "id": "OhpaNjOUz5-s"
      }
    },
    {
      "cell_type": "code",
      "source": [
        "y_pred = (  y_pred_ok.reshape(8,1) +   y_pred_ek.reshape(8,1)  + y_pred_sl.reshape(8,1)  + y_pred_sn.reshape(8,1))/4"
      ],
      "metadata": {
        "id": "GxkoCEC05KyY"
      },
      "execution_count": null,
      "outputs": []
    },
    {
      "cell_type": "code",
      "source": [
        "print(f'MRE: {re(y_val, y_pred)}')\n",
        "plt.plot(range(8),y_pred,label ='PREDICTED' )\n",
        "plt.plot(range(8),y_val,label = 'TRUE')\n",
        "plt.legend()\n",
        "plt.title('Ensemble Model')"
      ],
      "metadata": {
        "colab": {
          "base_uri": "https://localhost:8080/",
          "height": 317
        },
        "id": "ubmIM5mg5cJf",
        "outputId": "7301904f-28ce-42b0-c715-d94fffcfe818"
      },
      "execution_count": null,
      "outputs": [
        {
          "output_type": "stream",
          "name": "stdout",
          "text": [
            "MRE: [0.16793682]\n"
          ]
        },
        {
          "output_type": "execute_result",
          "data": {
            "text/plain": [
              "Text(0.5, 1.0, 'Ensemble Model')"
            ]
          },
          "metadata": {},
          "execution_count": 407
        },
        {
          "output_type": "display_data",
          "data": {
            "text/plain": [
              "<Figure size 432x288 with 1 Axes>"
            ],
            "image/png": "[encoded data removed]"
          },
          "metadata": {
            "needs_background": "light"
          }
        }
      ]
    },
    {
      "cell_type": "code",
      "source": [
        "t = { \n",
        "      'Original Dataset ' : [0.270,0.177,0.463],\n",
        "      'Engineered Dataset' : [0.254,0.180,0.234],\n",
        "      'Selected Dataset' : [0.195,0.254,0.182]\n",
        "}"
      ],
      "metadata": {
        "id": "kOIa1mSRr2J3"
      },
      "execution_count": null,
      "outputs": []
    },
    {
      "cell_type": "code",
      "source": [
        "df = pd.DataFrame(t, index = ['Linear Regression', 'KNN Regression', 'Neural Network'])\n",
        "df"
      ],
      "metadata": {
        "colab": {
          "base_uri": "https://localhost:8080/",
          "height": 143
        },
        "id": "qE9t_XXYsgqq",
        "outputId": "6272bccb-3d26-4a65-d627-fc44d276e23a"
      },
      "execution_count": null,
      "outputs": [
        {
          "output_type": "execute_result",
          "data": {
            "text/plain": [
              "                   Original Dataset   Engineered Dataset  Selected Dataset\n",
              "Linear Regression              0.270               0.254             0.195\n",
              "KNN Regression                 0.177               0.180             0.254\n",
              "Neural Network                 0.463               0.234             0.182"
            ],
            "text/html": [
              "\n",
              "  <div id=\"df-a94fe158-670a-486b-9046-5ef1ef916ff0\">\n",
              "    <div class=\"colab-df-container\">\n",
              "      <div>\n",
              "<style scoped>\n",
              "    .dataframe tbody tr th:only-of-type {\n",
              "        vertical-align: middle;\n",
              "    }\n",
              "\n",
              "    .dataframe tbody tr th {\n",
              "        vertical-align: top;\n",
              "    }\n",
              "\n",
              "    .dataframe thead th {\n",
              "        text-align: right;\n",
              "    }\n",
              "</style>\n",
              "<table border=\"1\" class=\"dataframe\">\n",
              "  <thead>\n",
              "    <tr style=\"text-align: right;\">\n",
              "      <th></th>\n",
              "      <th>Original Dataset</th>\n",
              "      <th>Engineered Dataset</th>\n",
              "      <th>Selected Dataset</th>\n",
              "    </tr>\n",
              "  </thead>\n",
              "  <tbody>\n",
              "    <tr>\n",
              "      <th>Linear Regression</th>\n",
              "      <td>0.270</td>\n",
              "      <td>0.254</td>\n",
              "      <td>0.195</td>\n",
              "    </tr>\n",
              "    <tr>\n",
              "      <th>KNN Regression</th>\n",
              "      <td>0.177</td>\n",
              "      <td>0.180</td>\n",
              "      <td>0.254</td>\n",
              "    </tr>\n",
              "    <tr>\n",
              "      <th>Neural Network</th>\n",
              "      <td>0.463</td>\n",
              "      <td>0.234</td>\n",
              "      <td>0.182</td>\n",
              "    </tr>\n",
              "  </tbody>\n",
              "</table>\n",
              "</div>\n",
              "      <button class=\"colab-df-convert\" onclick=\"convertToInteractive('df-a94fe158-670a-486b-9046-5ef1ef916ff0')\"\n",
              "              title=\"Convert this dataframe to an interactive table.\"\n",
              "              style=\"display:none;\">\n",
              "        \n",
              "  <svg xmlns=\"http://www.w3.org/2000/svg\" height=\"24px\"viewBox=\"0 0 24 24\"\n",
              "       width=\"24px\">\n",
              "    <path d=\"M0 0h24v24H0V0z\" fill=\"none\"/>\n",
              "    <path d=\"M18.56 5.44l.94 2.06.94-2.06 2.06-.94-2.06-.94-.94-2.06-.94 2.06-2.06.94zm-11 1L8.5 8.5l.94-2.06 2.06-.94-2.06-.94L8.5 2.5l-.94 2.06-2.06.94zm10 10l.94 2.06.94-2.06 2.06-.94-2.06-.94-.94-2.06-.94 2.06-2.06.94z\"/><path d=\"M17.41 7.96l-1.37-1.37c-.4-.4-.92-.59-1.43-.59-.52 0-1.04.2-1.43.59L10.3 9.45l-7.72 7.72c-.78.78-.78 2.05 0 2.83L4 21.41c.39.39.9.59 1.41.59.51 0 1.02-.2 1.41-.59l7.78-7.78 2.81-2.81c.8-.78.8-2.07 0-2.86zM5.41 20L4 18.59l7.72-7.72 1.47 1.35L5.41 20z\"/>\n",
              "  </svg>\n",
              "      </button>\n",
              "      \n",
              "  <style>\n",
              "    .colab-df-container {\n",
              "      display:flex;\n",
              "      flex-wrap:wrap;\n",
              "      gap: 12px;\n",
              "    }\n",
              "\n",
              "    .colab-df-convert {\n",
              "      background-color: #E8F0FE;\n",
              "      border: none;\n",
              "      border-radius: 50%;\n",
              "      cursor: pointer;\n",
              "      display: none;\n",
              "      fill: #1967D2;\n",
              "      height: 32px;\n",
              "      padding: 0 0 0 0;\n",
              "      width: 32px;\n",
              "    }\n",
              "\n",
              "    .colab-df-convert:hover {\n",
              "      background-color: #E2EBFA;\n",
              "      box-shadow: 0px 1px 2px rgba(60, 64, 67, 0.3), 0px 1px 3px 1px rgba(60, 64, 67, 0.15);\n",
              "      fill: #174EA6;\n",
              "    }\n",
              "\n",
              "    [theme=dark] .colab-df-convert {\n",
              "      background-color: #3B4455;\n",
              "      fill: #D2E3FC;\n",
              "    }\n",
              "\n",
              "    [theme=dark] .colab-df-convert:hover {\n",
              "      background-color: #434B5C;\n",
              "      box-shadow: 0px 1px 3px 1px rgba(0, 0, 0, 0.15);\n",
              "      filter: drop-shadow(0px 1px 2px rgba(0, 0, 0, 0.3));\n",
              "      fill: #FFFFFF;\n",
              "    }\n",
              "  </style>\n",
              "\n",
              "      <script>\n",
              "        const buttonEl =\n",
              "          document.querySelector('#df-a94fe158-670a-486b-9046-5ef1ef916ff0 button.colab-df-convert');\n",
              "        buttonEl.style.display =\n",
              "          google.colab.kernel.accessAllowed ? 'block' : 'none';\n",
              "\n",
              "        async function convertToInteractive(key) {\n",
              "          const element = document.querySelector('#df-a94fe158-670a-486b-9046-5ef1ef916ff0');\n",
              "          const dataTable =\n",
              "            await google.colab.kernel.invokeFunction('convertToInteractive',\n",
              "                                                     [key], {});\n",
              "          if (!dataTable) return;\n",
              "\n",
              "          const docLinkHtml = 'Like what you see? Visit the ' +\n",
              "            '<a target=\"_blank\" href=https://colab.research.google.com/notebooks/data_table.ipynb>data table notebook</a>'\n",
              "            + ' to learn more about interactive tables.';\n",
              "          element.innerHTML = '';\n",
              "          dataTable['output_type'] = 'display_data';\n",
              "          await google.colab.output.renderOutput(dataTable, element);\n",
              "          const docLink = document.createElement('div');\n",
              "          docLink.innerHTML = docLinkHtml;\n",
              "          element.appendChild(docLink);\n",
              "        }\n",
              "      </script>\n",
              "    </div>\n",
              "  </div>\n",
              "  "
            ]
          },
          "metadata": {},
          "execution_count": 412
        }
      ]
    }
  ]
}